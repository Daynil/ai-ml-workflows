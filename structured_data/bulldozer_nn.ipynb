{
 "cells": [
  {
   "cell_type": "code",
   "execution_count": 5,
   "metadata": {},
   "outputs": [],
   "source": [
    "from pathlib import Path\n",
    "import shutil\n",
    "\n",
    "import numpy as np\n",
    "import pandas as pd\n",
    "import matplotlib.pyplot as plt\n",
    "import seaborn as sns\n",
    "import fastai.tabular.all as fai_tab\n",
    "\n",
    "pd.options.display.max_columns = 0"
   ]
  },
  {
   "cell_type": "code",
   "execution_count": 2,
   "metadata": {},
   "outputs": [],
   "source": [
    "from kaggle import api"
   ]
  },
  {
   "cell_type": "code",
   "execution_count": 6,
   "metadata": {},
   "outputs": [
    {
     "name": "stdout",
     "output_type": "stream",
     "text": [
      "Downloading bluebook-for-bulldozers.zip to data/bluebook-for-bulldozers\n"
     ]
    },
    {
     "name": "stderr",
     "output_type": "stream",
     "text": [
      "100%|██████████| 48.4M/48.4M [00:08<00:00, 5.88MB/s]\n"
     ]
    },
    {
     "name": "stdout",
     "output_type": "stream",
     "text": [
      "\n"
     ]
    }
   ],
   "source": [
    "comp = \"bluebook-for-bulldozers\"\n",
    "path = Path(f\"./data/{comp}\")\n",
    "\n",
    "if not path.exists():\n",
    "    api.competition_download_cli(comp, path=path)\n",
    "    shutil.unpack_archive(str(path/f'{comp}.zip'), str(path))\n",
    "    (path/f'{comp}.zip').unlink()"
   ]
  },
  {
   "cell_type": "code",
   "execution_count": 8,
   "metadata": {},
   "outputs": [],
   "source": [
    "def clean_data(df: pd.DataFrame):\n",
    "    data = df.copy()\n",
    "    data = data.sort_values(by='saledate', ascending=True)\n",
    "\n",
    "    \"\"\"\n",
    "    fiModelDesc is just the combination of fiBaseModel, fiSecondaryDesc, \n",
    "    fiModelSeries, and fiModelDescriptor. Richer information is likely to be \n",
    "    extracted when using them individually, so we won't use fiModelDesc.\n",
    "    \"\"\"\n",
    "    data = data.drop(['fiModelDesc'], axis=1)\n",
    "\n",
    "    \"\"\"\n",
    "    Many of the latter columns have \"None or Unspecified\" listed instead of \"blank\",\n",
    "    where the two seem to be functionally the same. To maintain consistency, \n",
    "    we will make \"None or Unspecified\" blank.\n",
    "    \"\"\"\n",
    "    data.replace('None or Unspecified', np.nan, inplace=True)\n",
    "\n",
    "    \"\"\"\n",
    "    fiProductClassDesc contains the ProductGroupDesc as well as a descriptor of \n",
    "    the \"primary size basis\" and the range of the size (when present). \n",
    "    The size basis and range can be dropped from the product group desc by \n",
    "    removing all up to the first \" - \". \n",
    "    \"\"\"\n",
    "    data['sizeBasis'] = (data['fiProductClassDesc']\n",
    "        .str.replace(r'.* - ', '', regex=True)\n",
    "    )\n",
    "    data = data.drop('fiProductClassDesc', axis=1)\n",
    "\n",
    "    # ProductGroup is just ProductGroupDesc abbreviated\n",
    "    data = data.drop('ProductGroup', axis=1)\n",
    "\n",
    "    # Create date columns\n",
    "    data['saledate'] = pd.to_datetime(data['saledate'])\n",
    "    data['saleyear'] = data['saledate'].dt.year\n",
    "    data['salemonth'] = data['saledate'].dt.month\n",
    "    data['saleday'] = data['saledate'].dt.day\n",
    "    data['saledayofweek'] = data['saledate'].dt.day_of_week\n",
    "    data = data.drop('saledate', axis=1)\n",
    "\n",
    "    # Make sure tire size is consistent (some have \" other inch) and make it a float\n",
    "    data['Tire_Size'] = pd.to_numeric(\n",
    "        data['Tire_Size'].str.replace('\"', '', regex=True)\n",
    "            .str.replace(' inch', '', regex=True)\n",
    "    )\n",
    "\n",
    "    # Convert stick length to inches\n",
    "    data['Stick_Length'] = (\n",
    "        pd.to_numeric(data['Stick_Length'].str.split(\"'\").str[0]) * 12 \\\n",
    "            + pd.to_numeric(data['Stick_Length'].str.split(\"'\").str[1].replace('\"', '', regex=True)\n",
    "                .str.strip())\n",
    "    )\n",
    "\n",
    "    # Undercarriage_Pad_Width to int\n",
    "    data['Undercarriage_Pad_Width'] = pd.to_numeric(\n",
    "        data['Undercarriage_Pad_Width'].str.replace(' inch', '', regex=True)\n",
    "    )\n",
    "    \n",
    "    return data"
   ]
  },
  {
   "cell_type": "code",
   "execution_count": 11,
   "metadata": {},
   "outputs": [],
   "source": [
    "dep_var = 'SalePrice'"
   ]
  },
  {
   "cell_type": "code",
   "execution_count": 9,
   "metadata": {},
   "outputs": [],
   "source": [
    "df = pd.read_csv(path/'TrainAndValid.csv', low_memory=False)\n",
    "df = clean_data(df)"
   ]
  },
  {
   "cell_type": "code",
   "execution_count": 12,
   "metadata": {},
   "outputs": [],
   "source": [
    "# Splits columns into categorical when cardinality is under 9000\n",
    "# This is a huge dataset (400k rows) so cardinality of 9k is a very small amount of unique vals\n",
    "# In neural networks, categorical columns are best handled with embeddings\n",
    "cont_nn, cat_nn = fai_tab.cont_cat_split(df, max_card=9000, dep_var=dep_var)"
   ]
  },
  {
   "cell_type": "code",
   "execution_count": 16,
   "metadata": {},
   "outputs": [],
   "source": [
    "cond = (df['saleyear']<2011) | (df['salemonth']<10)\n",
    "train_idx = np.where( cond)[0]\n",
    "valid_idx = np.where(~cond)[0]\n",
    "\n",
    "splits = (list(train_idx),list(valid_idx))"
   ]
  },
  {
   "cell_type": "code",
   "execution_count": 17,
   "metadata": {},
   "outputs": [],
   "source": [
    "procs_nn = [fai_tab.Categorify, fai_tab.FillMissing, fai_tab.Normalize]\n",
    "to_nn = fai_tab.TabularPandas(\n",
    "    df, procs_nn, cat_nn, cont_nn, splits=splits, y_names=dep_var\n",
    ")"
   ]
  },
  {
   "cell_type": "code",
   "execution_count": 18,
   "metadata": {},
   "outputs": [],
   "source": [
    "dls = to_nn.dataloaders(1024)"
   ]
  },
  {
   "cell_type": "code",
   "execution_count": 19,
   "metadata": {},
   "outputs": [
    {
     "data": {
      "text/plain": [
       "(4750.0, 142000.0)"
      ]
     },
     "execution_count": 19,
     "metadata": {},
     "output_type": "execute_result"
    }
   ],
   "source": [
    "y = to_nn.train.y\n",
    "y.min(), y.max()"
   ]
  },
  {
   "cell_type": "code",
   "execution_count": 20,
   "metadata": {},
   "outputs": [],
   "source": [
    "learn = fai_tab.tabular_learner(dls, y_range=(4750, 142000), layers=[500, 250],\n",
    "                                n_out=1, loss_func=fai_tab.F.mse_loss)"
   ]
  },
  {
   "cell_type": "code",
   "execution_count": 21,
   "metadata": {},
   "outputs": [
    {
     "data": {
      "text/html": [
       "\n",
       "<style>\n",
       "    /* Turns off some styling */\n",
       "    progress {\n",
       "        /* gets rid of default border in Firefox and Opera. */\n",
       "        border: none;\n",
       "        /* Needs to be in here for Safari polyfill so background images work as expected. */\n",
       "        background-size: auto;\n",
       "    }\n",
       "    progress:not([value]), progress:not([value])::-webkit-progress-bar {\n",
       "        background: repeating-linear-gradient(45deg, #7e7e7e, #7e7e7e 10px, #5c5c5c 10px, #5c5c5c 20px);\n",
       "    }\n",
       "    .progress-bar-interrupted, .progress-bar-interrupted::-webkit-progress-bar {\n",
       "        background: #F44336;\n",
       "    }\n",
       "</style>\n"
      ],
      "text/plain": [
       "<IPython.core.display.HTML object>"
      ]
     },
     "metadata": {},
     "output_type": "display_data"
    },
    {
     "data": {
      "text/html": [],
      "text/plain": [
       "<IPython.core.display.HTML object>"
      ]
     },
     "metadata": {},
     "output_type": "display_data"
    },
    {
     "data": {
      "text/plain": [
       "SuggestedLRs(valley=0.0030199517495930195)"
      ]
     },
     "execution_count": 21,
     "metadata": {},
     "output_type": "execute_result"
    },
    {
     "data": {
      "image/png": "[encoded data removed]",
      "text/plain": [
       "<Figure size 640x480 with 1 Axes>"
      ]
     },
     "metadata": {},
     "output_type": "display_data"
    }
   ],
   "source": [
    "learn.lr_find()"
   ]
  },
  {
   "cell_type": "code",
   "execution_count": 22,
   "metadata": {},
   "outputs": [
    {
     "data": {
      "text/html": [
       "\n",
       "<style>\n",
       "    /* Turns off some styling */\n",
       "    progress {\n",
       "        /* gets rid of default border in Firefox and Opera. */\n",
       "        border: none;\n",
       "        /* Needs to be in here for Safari polyfill so background images work as expected. */\n",
       "        background-size: auto;\n",
       "    }\n",
       "    progress:not([value]), progress:not([value])::-webkit-progress-bar {\n",
       "        background: repeating-linear-gradient(45deg, #7e7e7e, #7e7e7e 10px, #5c5c5c 10px, #5c5c5c 20px);\n",
       "    }\n",
       "    .progress-bar-interrupted, .progress-bar-interrupted::-webkit-progress-bar {\n",
       "        background: #F44336;\n",
       "    }\n",
       "</style>\n"
      ],
      "text/plain": [
       "<IPython.core.display.HTML object>"
      ]
     },
     "metadata": {},
     "output_type": "display_data"
    },
    {
     "data": {
      "text/html": [
       "<table border=\"1\" class=\"dataframe\">\n",
       "  <thead>\n",
       "    <tr style=\"text-align: left;\">\n",
       "      <th>epoch</th>\n",
       "      <th>train_loss</th>\n",
       "      <th>valid_loss</th>\n",
       "      <th>time</th>\n",
       "    </tr>\n",
       "  </thead>\n",
       "  <tbody>\n",
       "    <tr>\n",
       "      <td>0</td>\n",
       "      <td>84097672.000000</td>\n",
       "      <td>88346912.000000</td>\n",
       "      <td>00:05</td>\n",
       "    </tr>\n",
       "    <tr>\n",
       "      <td>1</td>\n",
       "      <td>62580160.000000</td>\n",
       "      <td>109883616.000000</td>\n",
       "      <td>00:05</td>\n",
       "    </tr>\n",
       "    <tr>\n",
       "      <td>2</td>\n",
       "      <td>55481900.000000</td>\n",
       "      <td>72248536.000000</td>\n",
       "      <td>00:05</td>\n",
       "    </tr>\n",
       "    <tr>\n",
       "      <td>3</td>\n",
       "      <td>47796100.000000</td>\n",
       "      <td>67947488.000000</td>\n",
       "      <td>00:05</td>\n",
       "    </tr>\n",
       "    <tr>\n",
       "      <td>4</td>\n",
       "      <td>42108860.000000</td>\n",
       "      <td>67911400.000000</td>\n",
       "      <td>00:05</td>\n",
       "    </tr>\n",
       "  </tbody>\n",
       "</table>"
      ],
      "text/plain": [
       "<IPython.core.display.HTML object>"
      ]
     },
     "metadata": {},
     "output_type": "display_data"
    }
   ],
   "source": [
    "learn.fit_one_cycle(5, 1e-2)"
   ]
  },
  {
   "cell_type": "code",
   "execution_count": 23,
   "metadata": {},
   "outputs": [],
   "source": [
    "from sklearn.metrics import mean_squared_log_error"
   ]
  },
  {
   "cell_type": "code",
   "execution_count": 24,
   "metadata": {},
   "outputs": [
    {
     "data": {
      "text/html": [
       "\n",
       "<style>\n",
       "    /* Turns off some styling */\n",
       "    progress {\n",
       "        /* gets rid of default border in Firefox and Opera. */\n",
       "        border: none;\n",
       "        /* Needs to be in here for Safari polyfill so background images work as expected. */\n",
       "        background-size: auto;\n",
       "    }\n",
       "    progress:not([value]), progress:not([value])::-webkit-progress-bar {\n",
       "        background: repeating-linear-gradient(45deg, #7e7e7e, #7e7e7e 10px, #5c5c5c 10px, #5c5c5c 20px);\n",
       "    }\n",
       "    .progress-bar-interrupted, .progress-bar-interrupted::-webkit-progress-bar {\n",
       "        background: #F44336;\n",
       "    }\n",
       "</style>\n"
      ],
      "text/plain": [
       "<IPython.core.display.HTML object>"
      ]
     },
     "metadata": {},
     "output_type": "display_data"
    },
    {
     "data": {
      "text/html": [],
      "text/plain": [
       "<IPython.core.display.HTML object>"
      ]
     },
     "metadata": {},
     "output_type": "display_data"
    },
    {
     "data": {
      "text/plain": [
       "0.22161"
      ]
     },
     "execution_count": 24,
     "metadata": {},
     "output_type": "execute_result"
    }
   ],
   "source": [
    "preds, targs = learn.get_preds()\n",
    "# Solid first place :)\n",
    "round(\n",
    "    mean_squared_log_error(targs, preds, squared=False),\n",
    "    5\n",
    ")"
   ]
  }
 ],
 "metadata": {
  "kernelspec": {
   "display_name": "ai-base",
   "language": "python",
   "name": "python3"
  },
  "language_info": {
   "codemirror_mode": {
    "name": "ipython",
    "version": 3
   },
   "file_extension": ".py",
   "mimetype": "text/x-python",
   "name": "python",
   "nbconvert_exporter": "python",
   "pygments_lexer": "ipython3",
   "version": "3.11.6"
  }
 },
 "nbformat": 4,
 "nbformat_minor": 2
}
