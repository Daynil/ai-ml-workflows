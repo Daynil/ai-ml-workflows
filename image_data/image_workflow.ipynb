{
 "cells": [
  {
   "cell_type": "markdown",
   "source": [
    "# Image AI Workflow\n",
    "\n",
    "A very high level outline of a typical machine learning workflow for tabular and/or structured data, as in spreadsheets.\n",
    "\n",
    "The goal is to keep this *very* concise and only include detail where it makes sense. I want to be able to use this as my standard reference for when I'm working on a new ML project.\n",
    "\n",
    "Originally from ZTM, but translated into pytorch. [ZTM Tensoflow 2.0 Book](https://github.com/mrdbourke/zero-to-mastery-ml/blob/wip/section-4-unstructured-data-projects/end-to-end-dog-vision.ipynb)"
   ],
   "metadata": {
    "collapsed": false
   },
   "id": "d83f0a909842511e"
  },
  {
   "cell_type": "code",
   "execution_count": 3,
   "outputs": [
    {
     "name": "stdout",
     "output_type": "stream",
     "text": [
      "hi\n"
     ]
    }
   ],
   "source": [
    "# TODO - code\n",
    "print(\"hi\")"
   ],
   "metadata": {
    "collapsed": false,
    "ExecuteTime": {
     "end_time": "2023-09-08T00:37:04.658971500Z",
     "start_time": "2023-09-08T00:37:04.650961300Z"
    }
   },
   "id": "17bbcea958f528c7"
  }
 ],
 "metadata": {
  "kernelspec": {
   "display_name": "Python 3",
   "language": "python",
   "name": "python3"
  },
  "language_info": {
   "codemirror_mode": {
    "name": "ipython",
    "version": 2
   },
   "file_extension": ".py",
   "mimetype": "text/x-python",
   "name": "python",
   "nbconvert_exporter": "python",
   "pygments_lexer": "ipython2",
   "version": "2.7.6"
  }
 },
 "nbformat": 4,
 "nbformat_minor": 5
}
