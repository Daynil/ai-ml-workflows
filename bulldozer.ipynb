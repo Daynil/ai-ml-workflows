{
 "cells": [
  {
   "cell_type": "code",
   "execution_count": 1,
   "metadata": {},
   "outputs": [],
   "source": [
    "import numpy as np\n",
    "import pandas as pd\n",
    "import matplotlib.pyplot as plt\n",
    "\n",
    "pd.options.display.max_columns = 0"
   ]
  },
  {
   "cell_type": "code",
   "execution_count": 2,
   "metadata": {},
   "outputs": [
    {
     "name": "stderr",
     "output_type": "stream",
     "text": [
      "C:\\Users\\Danny\\AppData\\Local\\Temp\\ipykernel_11600\\3320590860.py:1: DtypeWarning: Columns (13,39,40,41) have mixed types. Specify dtype option on import or set low_memory=False.\n",
      "  train = pd.read_csv('./data/bulldozer/Train.csv')\n"
     ]
    }
   ],
   "source": [
    "train = pd.read_csv('./data/bulldozer/Train.csv')\n",
    "train = train.sort_values(by='saledate', ascending=True)"
   ]
  },
  {
   "cell_type": "code",
   "execution_count": 3,
   "metadata": {},
   "outputs": [
    {
     "name": "stderr",
     "output_type": "stream",
     "text": [
      "f:\\Coding\\global-envs\\ai-tink\\Lib\\site-packages\\openpyxl\\worksheet\\_reader.py:329: UserWarning: Unknown extension is not supported and will be removed\n",
      "  warn(msg)\n"
     ]
    },
    {
     "data": {
      "text/html": [
       "<div>\n",
       "<style scoped>\n",
       "    .dataframe tbody tr th:only-of-type {\n",
       "        vertical-align: middle;\n",
       "    }\n",
       "\n",
       "    .dataframe tbody tr th {\n",
       "        vertical-align: top;\n",
       "    }\n",
       "\n",
       "    .dataframe thead th {\n",
       "        text-align: right;\n",
       "    }\n",
       "</style>\n",
       "<table border=\"1\" class=\"dataframe\">\n",
       "  <thead>\n",
       "    <tr style=\"text-align: right;\">\n",
       "      <th></th>\n",
       "      <th>Variable</th>\n",
       "      <th>Description</th>\n",
       "      <th>Unnamed: 2</th>\n",
       "    </tr>\n",
       "  </thead>\n",
       "  <tbody>\n",
       "    <tr>\n",
       "      <th>0</th>\n",
       "      <td>SalesID</td>\n",
       "      <td>unique identifier of a particular sale of a ...</td>\n",
       "      <td>NaN</td>\n",
       "    </tr>\n",
       "    <tr>\n",
       "      <th>1</th>\n",
       "      <td>MachineID</td>\n",
       "      <td>identifier for a particular machine;  machin...</td>\n",
       "      <td>NaN</td>\n",
       "    </tr>\n",
       "    <tr>\n",
       "      <th>2</th>\n",
       "      <td>ModelID</td>\n",
       "      <td>identifier for a unique machine model (i.e. ...</td>\n",
       "      <td>NaN</td>\n",
       "    </tr>\n",
       "    <tr>\n",
       "      <th>3</th>\n",
       "      <td>datasource</td>\n",
       "      <td>source of the sale record;  some sources are...</td>\n",
       "      <td>NaN</td>\n",
       "    </tr>\n",
       "    <tr>\n",
       "      <th>4</th>\n",
       "      <td>auctioneerID</td>\n",
       "      <td>identifier of a particular auctioneer, i.e. ...</td>\n",
       "      <td>NaN</td>\n",
       "    </tr>\n",
       "    <tr>\n",
       "      <th>5</th>\n",
       "      <td>YearMade</td>\n",
       "      <td>year of manufacturer of the Machine</td>\n",
       "      <td>NaN</td>\n",
       "    </tr>\n",
       "    <tr>\n",
       "      <th>6</th>\n",
       "      <td>MachineHoursCurrentMeter</td>\n",
       "      <td>current usage of the machine in hours at tim...</td>\n",
       "      <td>NaN</td>\n",
       "    </tr>\n",
       "    <tr>\n",
       "      <th>7</th>\n",
       "      <td>UsageBand</td>\n",
       "      <td>value (low, medium, high) calculated compari...</td>\n",
       "      <td>NaN</td>\n",
       "    </tr>\n",
       "    <tr>\n",
       "      <th>8</th>\n",
       "      <td>Saledate</td>\n",
       "      <td>time of sale</td>\n",
       "      <td>NaN</td>\n",
       "    </tr>\n",
       "    <tr>\n",
       "      <th>9</th>\n",
       "      <td>Saleprice</td>\n",
       "      <td>cost of sale in USD</td>\n",
       "      <td>NaN</td>\n",
       "    </tr>\n",
       "    <tr>\n",
       "      <th>10</th>\n",
       "      <td>fiModelDesc</td>\n",
       "      <td>Description of a unique machine model (see M...</td>\n",
       "      <td>NaN</td>\n",
       "    </tr>\n",
       "    <tr>\n",
       "      <th>11</th>\n",
       "      <td>fiBaseModel</td>\n",
       "      <td>disaggregation of fiModelDesc</td>\n",
       "      <td>NaN</td>\n",
       "    </tr>\n",
       "    <tr>\n",
       "      <th>12</th>\n",
       "      <td>fiSecondaryDesc</td>\n",
       "      <td>disaggregation of fiModelDesc</td>\n",
       "      <td>NaN</td>\n",
       "    </tr>\n",
       "    <tr>\n",
       "      <th>13</th>\n",
       "      <td>fiModelSeries</td>\n",
       "      <td>disaggregation of fiModelDesc</td>\n",
       "      <td>NaN</td>\n",
       "    </tr>\n",
       "    <tr>\n",
       "      <th>14</th>\n",
       "      <td>fiModelDescriptor</td>\n",
       "      <td>disaggregation of fiModelDesc</td>\n",
       "      <td>NaN</td>\n",
       "    </tr>\n",
       "    <tr>\n",
       "      <th>15</th>\n",
       "      <td>ProductSize</td>\n",
       "      <td>Don't know what this is</td>\n",
       "      <td>The size class grouping for a product group. S...</td>\n",
       "    </tr>\n",
       "    <tr>\n",
       "      <th>16</th>\n",
       "      <td>ProductClassDesc</td>\n",
       "      <td>description of 2nd level hierarchical groupi...</td>\n",
       "      <td>NaN</td>\n",
       "    </tr>\n",
       "    <tr>\n",
       "      <th>17</th>\n",
       "      <td>State</td>\n",
       "      <td>US State in which sale occurred</td>\n",
       "      <td>NaN</td>\n",
       "    </tr>\n",
       "    <tr>\n",
       "      <th>18</th>\n",
       "      <td>ProductGroup</td>\n",
       "      <td>identifier for top-level hierarchical groupi...</td>\n",
       "      <td>NaN</td>\n",
       "    </tr>\n",
       "    <tr>\n",
       "      <th>19</th>\n",
       "      <td>ProductGroupDesc</td>\n",
       "      <td>description of top-level hierarchical groupi...</td>\n",
       "      <td>NaN</td>\n",
       "    </tr>\n",
       "    <tr>\n",
       "      <th>20</th>\n",
       "      <td>Drive_System</td>\n",
       "      <td>machine configuration;  typcially describes wh...</td>\n",
       "      <td>NaN</td>\n",
       "    </tr>\n",
       "    <tr>\n",
       "      <th>21</th>\n",
       "      <td>Enclosure</td>\n",
       "      <td>machine configuration - does machine have an e...</td>\n",
       "      <td>NaN</td>\n",
       "    </tr>\n",
       "    <tr>\n",
       "      <th>22</th>\n",
       "      <td>Forks</td>\n",
       "      <td>machine configuration - attachment used for li...</td>\n",
       "      <td>NaN</td>\n",
       "    </tr>\n",
       "    <tr>\n",
       "      <th>23</th>\n",
       "      <td>Pad_Type</td>\n",
       "      <td>machine configuration - type of treads a crawl...</td>\n",
       "      <td>NaN</td>\n",
       "    </tr>\n",
       "    <tr>\n",
       "      <th>24</th>\n",
       "      <td>Ride_Control</td>\n",
       "      <td>machine configuration - optional feature on lo...</td>\n",
       "      <td>NaN</td>\n",
       "    </tr>\n",
       "    <tr>\n",
       "      <th>25</th>\n",
       "      <td>Stick</td>\n",
       "      <td>machine configuration - type of control</td>\n",
       "      <td>NaN</td>\n",
       "    </tr>\n",
       "    <tr>\n",
       "      <th>26</th>\n",
       "      <td>Transmission</td>\n",
       "      <td>machine configuration - describes type of tran...</td>\n",
       "      <td>NaN</td>\n",
       "    </tr>\n",
       "    <tr>\n",
       "      <th>27</th>\n",
       "      <td>Turbocharged</td>\n",
       "      <td>machine configuration - engine naturally aspir...</td>\n",
       "      <td>NaN</td>\n",
       "    </tr>\n",
       "    <tr>\n",
       "      <th>28</th>\n",
       "      <td>Blade_Extension</td>\n",
       "      <td>machine configuration - extension of standard ...</td>\n",
       "      <td>NaN</td>\n",
       "    </tr>\n",
       "    <tr>\n",
       "      <th>29</th>\n",
       "      <td>Blade_Width</td>\n",
       "      <td>machine configuration - width of blade</td>\n",
       "      <td>NaN</td>\n",
       "    </tr>\n",
       "    <tr>\n",
       "      <th>30</th>\n",
       "      <td>Enclosure_Type</td>\n",
       "      <td>machine configuration - does machine have an e...</td>\n",
       "      <td>NaN</td>\n",
       "    </tr>\n",
       "    <tr>\n",
       "      <th>31</th>\n",
       "      <td>Engine_Horsepower</td>\n",
       "      <td>machine configuration - engine horsepower rating</td>\n",
       "      <td>NaN</td>\n",
       "    </tr>\n",
       "    <tr>\n",
       "      <th>32</th>\n",
       "      <td>Hydraulics</td>\n",
       "      <td>machine configuration - type of hydraulics</td>\n",
       "      <td>NaN</td>\n",
       "    </tr>\n",
       "    <tr>\n",
       "      <th>33</th>\n",
       "      <td>Pushblock</td>\n",
       "      <td>machine configuration - option</td>\n",
       "      <td>NaN</td>\n",
       "    </tr>\n",
       "    <tr>\n",
       "      <th>34</th>\n",
       "      <td>Ripper</td>\n",
       "      <td>machine configuration - implement attached to ...</td>\n",
       "      <td>NaN</td>\n",
       "    </tr>\n",
       "    <tr>\n",
       "      <th>35</th>\n",
       "      <td>Scarifier</td>\n",
       "      <td>machine configuration - implement attached to ...</td>\n",
       "      <td>NaN</td>\n",
       "    </tr>\n",
       "    <tr>\n",
       "      <th>36</th>\n",
       "      <td>Tip_control</td>\n",
       "      <td>machine configuration - type of blade control</td>\n",
       "      <td>NaN</td>\n",
       "    </tr>\n",
       "    <tr>\n",
       "      <th>37</th>\n",
       "      <td>Tire_Size</td>\n",
       "      <td>machine configuration - size of primary tires</td>\n",
       "      <td>NaN</td>\n",
       "    </tr>\n",
       "    <tr>\n",
       "      <th>38</th>\n",
       "      <td>Coupler</td>\n",
       "      <td>machine configuration - type of implement inte...</td>\n",
       "      <td>NaN</td>\n",
       "    </tr>\n",
       "    <tr>\n",
       "      <th>39</th>\n",
       "      <td>Coupler_System</td>\n",
       "      <td>machine configuration - type of implement inte...</td>\n",
       "      <td>NaN</td>\n",
       "    </tr>\n",
       "    <tr>\n",
       "      <th>40</th>\n",
       "      <td>Grouser_Tracks</td>\n",
       "      <td>machine configuration - describes ground conta...</td>\n",
       "      <td>NaN</td>\n",
       "    </tr>\n",
       "    <tr>\n",
       "      <th>41</th>\n",
       "      <td>Hydraulics_Flow</td>\n",
       "      <td>machine configuration - normal or high flow hy...</td>\n",
       "      <td>NaN</td>\n",
       "    </tr>\n",
       "    <tr>\n",
       "      <th>42</th>\n",
       "      <td>Track_Type</td>\n",
       "      <td>machine configuration - type of treads a crawl...</td>\n",
       "      <td>NaN</td>\n",
       "    </tr>\n",
       "    <tr>\n",
       "      <th>43</th>\n",
       "      <td>Undercarriage_Pad_Width</td>\n",
       "      <td>machine configuration - width of crawler treads</td>\n",
       "      <td>NaN</td>\n",
       "    </tr>\n",
       "    <tr>\n",
       "      <th>44</th>\n",
       "      <td>Stick_Length</td>\n",
       "      <td>machine configuration - length of machine digg...</td>\n",
       "      <td>NaN</td>\n",
       "    </tr>\n",
       "    <tr>\n",
       "      <th>45</th>\n",
       "      <td>Thumb</td>\n",
       "      <td>machine configuration - attachment used for gr...</td>\n",
       "      <td>NaN</td>\n",
       "    </tr>\n",
       "    <tr>\n",
       "      <th>46</th>\n",
       "      <td>Pattern_Changer</td>\n",
       "      <td>machine configuration - can adjust the operato...</td>\n",
       "      <td>NaN</td>\n",
       "    </tr>\n",
       "    <tr>\n",
       "      <th>47</th>\n",
       "      <td>Grouser_Type</td>\n",
       "      <td>machine configuration - type of treads a crawl...</td>\n",
       "      <td>NaN</td>\n",
       "    </tr>\n",
       "    <tr>\n",
       "      <th>48</th>\n",
       "      <td>Backhoe_Mounting</td>\n",
       "      <td>machine configuration - optional interface use...</td>\n",
       "      <td>NaN</td>\n",
       "    </tr>\n",
       "    <tr>\n",
       "      <th>49</th>\n",
       "      <td>Blade_Type</td>\n",
       "      <td>machine configuration - describes type of blade</td>\n",
       "      <td>NaN</td>\n",
       "    </tr>\n",
       "    <tr>\n",
       "      <th>50</th>\n",
       "      <td>Travel_Controls</td>\n",
       "      <td>machine configuration - describes operator con...</td>\n",
       "      <td>NaN</td>\n",
       "    </tr>\n",
       "    <tr>\n",
       "      <th>51</th>\n",
       "      <td>Differential_Type</td>\n",
       "      <td>machine configuration - differential type, typ...</td>\n",
       "      <td>NaN</td>\n",
       "    </tr>\n",
       "    <tr>\n",
       "      <th>52</th>\n",
       "      <td>Steering_Controls</td>\n",
       "      <td>machine configuration - describes operator con...</td>\n",
       "      <td>NaN</td>\n",
       "    </tr>\n",
       "  </tbody>\n",
       "</table>\n",
       "</div>"
      ],
      "text/plain": [
       "                    Variable  ...                                         Unnamed: 2\n",
       "0                    SalesID  ...                                                NaN\n",
       "1                  MachineID  ...                                                NaN\n",
       "2                    ModelID  ...                                                NaN\n",
       "3                 datasource  ...                                                NaN\n",
       "4               auctioneerID  ...                                                NaN\n",
       "5                   YearMade  ...                                                NaN\n",
       "6   MachineHoursCurrentMeter  ...                                                NaN\n",
       "7                  UsageBand  ...                                                NaN\n",
       "8                   Saledate  ...                                                NaN\n",
       "9                  Saleprice  ...                                                NaN\n",
       "10               fiModelDesc  ...                                                NaN\n",
       "11               fiBaseModel  ...                                                NaN\n",
       "12           fiSecondaryDesc  ...                                                NaN\n",
       "13             fiModelSeries  ...                                                NaN\n",
       "14         fiModelDescriptor  ...                                                NaN\n",
       "15               ProductSize  ...  The size class grouping for a product group. S...\n",
       "16          ProductClassDesc  ...                                                NaN\n",
       "17                     State  ...                                                NaN\n",
       "18              ProductGroup  ...                                                NaN\n",
       "19          ProductGroupDesc  ...                                                NaN\n",
       "20              Drive_System  ...                                                NaN\n",
       "21                 Enclosure  ...                                                NaN\n",
       "22                     Forks  ...                                                NaN\n",
       "23                  Pad_Type  ...                                                NaN\n",
       "24              Ride_Control  ...                                                NaN\n",
       "25                     Stick  ...                                                NaN\n",
       "26              Transmission  ...                                                NaN\n",
       "27              Turbocharged  ...                                                NaN\n",
       "28           Blade_Extension  ...                                                NaN\n",
       "29               Blade_Width  ...                                                NaN\n",
       "30            Enclosure_Type  ...                                                NaN\n",
       "31         Engine_Horsepower  ...                                                NaN\n",
       "32                Hydraulics  ...                                                NaN\n",
       "33                 Pushblock  ...                                                NaN\n",
       "34                    Ripper  ...                                                NaN\n",
       "35                 Scarifier  ...                                                NaN\n",
       "36               Tip_control  ...                                                NaN\n",
       "37                 Tire_Size  ...                                                NaN\n",
       "38                   Coupler  ...                                                NaN\n",
       "39            Coupler_System  ...                                                NaN\n",
       "40            Grouser_Tracks  ...                                                NaN\n",
       "41           Hydraulics_Flow  ...                                                NaN\n",
       "42                Track_Type  ...                                                NaN\n",
       "43   Undercarriage_Pad_Width  ...                                                NaN\n",
       "44              Stick_Length  ...                                                NaN\n",
       "45                     Thumb  ...                                                NaN\n",
       "46           Pattern_Changer  ...                                                NaN\n",
       "47              Grouser_Type  ...                                                NaN\n",
       "48          Backhoe_Mounting  ...                                                NaN\n",
       "49                Blade_Type  ...                                                NaN\n",
       "50           Travel_Controls  ...                                                NaN\n",
       "51         Differential_Type  ...                                                NaN\n",
       "52         Steering_Controls  ...                                                NaN\n",
       "\n",
       "[53 rows x 3 columns]"
      ]
     },
     "execution_count": 3,
     "metadata": {},
     "output_type": "execute_result"
    }
   ],
   "source": [
    "data_dict = pd.read_excel('./data/bulldozer/Data Dictionary.xlsx')\n",
    "data_dict"
   ]
  },
  {
   "cell_type": "code",
   "execution_count": 4,
   "metadata": {},
   "outputs": [
    {
     "data": {
      "text/html": [
       "<div>\n",
       "<style scoped>\n",
       "    .dataframe tbody tr th:only-of-type {\n",
       "        vertical-align: middle;\n",
       "    }\n",
       "\n",
       "    .dataframe tbody tr th {\n",
       "        vertical-align: top;\n",
       "    }\n",
       "\n",
       "    .dataframe thead th {\n",
       "        text-align: right;\n",
       "    }\n",
       "</style>\n",
       "<table border=\"1\" class=\"dataframe\">\n",
       "  <thead>\n",
       "    <tr style=\"text-align: right;\">\n",
       "      <th></th>\n",
       "      <th>SalePrice</th>\n",
       "      <th>YearMade</th>\n",
       "      <th>MachineHoursCurrentMeter</th>\n",
       "    </tr>\n",
       "  </thead>\n",
       "  <tbody>\n",
       "    <tr>\n",
       "      <th>count</th>\n",
       "      <td>401125.000000</td>\n",
       "      <td>401125.000000</td>\n",
       "      <td>1.427650e+05</td>\n",
       "    </tr>\n",
       "    <tr>\n",
       "      <th>mean</th>\n",
       "      <td>31099.712848</td>\n",
       "      <td>1899.156901</td>\n",
       "      <td>3.457955e+03</td>\n",
       "    </tr>\n",
       "    <tr>\n",
       "      <th>std</th>\n",
       "      <td>23036.898502</td>\n",
       "      <td>291.797469</td>\n",
       "      <td>2.759026e+04</td>\n",
       "    </tr>\n",
       "    <tr>\n",
       "      <th>min</th>\n",
       "      <td>4750.000000</td>\n",
       "      <td>1000.000000</td>\n",
       "      <td>0.000000e+00</td>\n",
       "    </tr>\n",
       "    <tr>\n",
       "      <th>25%</th>\n",
       "      <td>14500.000000</td>\n",
       "      <td>1985.000000</td>\n",
       "      <td>0.000000e+00</td>\n",
       "    </tr>\n",
       "    <tr>\n",
       "      <th>50%</th>\n",
       "      <td>24000.000000</td>\n",
       "      <td>1995.000000</td>\n",
       "      <td>0.000000e+00</td>\n",
       "    </tr>\n",
       "    <tr>\n",
       "      <th>75%</th>\n",
       "      <td>40000.000000</td>\n",
       "      <td>2000.000000</td>\n",
       "      <td>3.025000e+03</td>\n",
       "    </tr>\n",
       "    <tr>\n",
       "      <th>max</th>\n",
       "      <td>142000.000000</td>\n",
       "      <td>2013.000000</td>\n",
       "      <td>2.483300e+06</td>\n",
       "    </tr>\n",
       "  </tbody>\n",
       "</table>\n",
       "</div>"
      ],
      "text/plain": [
       "           SalePrice       YearMade  MachineHoursCurrentMeter\n",
       "count  401125.000000  401125.000000              1.427650e+05\n",
       "mean    31099.712848    1899.156901              3.457955e+03\n",
       "std     23036.898502     291.797469              2.759026e+04\n",
       "min      4750.000000    1000.000000              0.000000e+00\n",
       "25%     14500.000000    1985.000000              0.000000e+00\n",
       "50%     24000.000000    1995.000000              0.000000e+00\n",
       "75%     40000.000000    2000.000000              3.025000e+03\n",
       "max    142000.000000    2013.000000              2.483300e+06"
      ]
     },
     "execution_count": 4,
     "metadata": {},
     "output_type": "execute_result"
    }
   ],
   "source": [
    "stats = train.describe()\n",
    "stats = stats.loc[:, ~stats.columns.str.endswith('ID')].drop('datasource', axis=1)\n",
    "stats"
   ]
  },
  {
   "cell_type": "code",
   "execution_count": 5,
   "metadata": {},
   "outputs": [
    {
     "name": "stdout",
     "output_type": "stream",
     "text": [
      "<class 'pandas.core.frame.DataFrame'>\n",
      "Index: 401125 entries, 268962 to 22602\n",
      "Data columns (total 53 columns):\n",
      " #   Column                    Non-Null Count   Dtype  \n",
      "---  ------                    --------------   -----  \n",
      " 0   SalesID                   401125 non-null  int64  \n",
      " 1   SalePrice                 401125 non-null  int64  \n",
      " 2   MachineID                 401125 non-null  int64  \n",
      " 3   ModelID                   401125 non-null  int64  \n",
      " 4   datasource                401125 non-null  int64  \n",
      " 5   auctioneerID              380989 non-null  float64\n",
      " 6   YearMade                  401125 non-null  int64  \n",
      " 7   MachineHoursCurrentMeter  142765 non-null  float64\n",
      " 8   UsageBand                 69639 non-null   object \n",
      " 9   saledate                  401125 non-null  object \n",
      " 10  fiModelDesc               401125 non-null  object \n",
      " 11  fiBaseModel               401125 non-null  object \n",
      " 12  fiSecondaryDesc           263934 non-null  object \n",
      " 13  fiModelSeries             56908 non-null   object \n",
      " 14  fiModelDescriptor         71919 non-null   object \n",
      " 15  ProductSize               190350 non-null  object \n",
      " 16  fiProductClassDesc        401125 non-null  object \n",
      " 17  state                     401125 non-null  object \n",
      " 18  ProductGroup              401125 non-null  object \n",
      " 19  ProductGroupDesc          401125 non-null  object \n",
      " 20  Drive_System              104361 non-null  object \n",
      " 21  Enclosure                 400800 non-null  object \n",
      " 22  Forks                     192077 non-null  object \n",
      " 23  Pad_Type                  79134 non-null   object \n",
      " 24  Ride_Control              148606 non-null  object \n",
      " 25  Stick                     79134 non-null   object \n",
      " 26  Transmission              183230 non-null  object \n",
      " 27  Turbocharged              79134 non-null   object \n",
      " 28  Blade_Extension           25219 non-null   object \n",
      " 29  Blade_Width               25219 non-null   object \n",
      " 30  Enclosure_Type            25219 non-null   object \n",
      " 31  Engine_Horsepower         25219 non-null   object \n",
      " 32  Hydraulics                320570 non-null  object \n",
      " 33  Pushblock                 25219 non-null   object \n",
      " 34  Ripper                    104137 non-null  object \n",
      " 35  Scarifier                 25230 non-null   object \n",
      " 36  Tip_Control               25219 non-null   object \n",
      " 37  Tire_Size                 94718 non-null   object \n",
      " 38  Coupler                   213952 non-null  object \n",
      " 39  Coupler_System            43458 non-null   object \n",
      " 40  Grouser_Tracks            43362 non-null   object \n",
      " 41  Hydraulics_Flow           43362 non-null   object \n",
      " 42  Track_Type                99153 non-null   object \n",
      " 43  Undercarriage_Pad_Width   99872 non-null   object \n",
      " 44  Stick_Length              99218 non-null   object \n",
      " 45  Thumb                     99288 non-null   object \n",
      " 46  Pattern_Changer           99218 non-null   object \n",
      " 47  Grouser_Type              99153 non-null   object \n",
      " 48  Backhoe_Mounting          78672 non-null   object \n",
      " 49  Blade_Type                79833 non-null   object \n",
      " 50  Travel_Controls           79834 non-null   object \n",
      " 51  Differential_Type         69411 non-null   object \n",
      " 52  Steering_Controls         69369 non-null   object \n",
      "dtypes: float64(2), int64(6), object(45)\n",
      "memory usage: 165.3+ MB\n"
     ]
    }
   ],
   "source": [
    "train.info()"
   ]
  },
  {
   "cell_type": "code",
   "execution_count": 6,
   "metadata": {},
   "outputs": [],
   "source": [
    "X_train = train.drop('SalePrice', axis=1)\n",
    "y_train = train['SalePrice']"
   ]
  },
  {
   "cell_type": "code",
   "execution_count": 7,
   "metadata": {},
   "outputs": [
    {
     "data": {
      "text/plain": [
       "(401125, 53)"
      ]
     },
     "execution_count": 7,
     "metadata": {},
     "output_type": "execute_result"
    }
   ],
   "source": [
    "train.shape"
   ]
  },
  {
   "cell_type": "code",
   "execution_count": 8,
   "metadata": {},
   "outputs": [
    {
     "name": "stdout",
     "output_type": "stream",
     "text": [
      "14\n"
     ]
    }
   ],
   "source": [
    "cols_to_train = []\n",
    "data_len = X_train.shape[0]\n",
    "\n",
    "# len(train['auctioneerID'].loc[train['auctioneerID'].isnull()])\n",
    "# if more than 20% of values are null, we can probably toss to start\n",
    "nulls_threshold = 0.2\n",
    "for col in X_train.columns:\n",
    "    if col == 'Enclosure':\n",
    "        pass\n",
    "    num_null = len(X_train[col].loc[X_train[col].isnull()])\n",
    "    null_ratio = num_null / data_len\n",
    "    if null_ratio < nulls_threshold:\n",
    "        cols_to_train.append(col)\n",
    "\n",
    "print(len(cols_to_train))"
   ]
  },
  {
   "cell_type": "code",
   "execution_count": 9,
   "metadata": {},
   "outputs": [
    {
     "data": {
      "text/plain": [
       "False"
      ]
     },
     "execution_count": 9,
     "metadata": {},
     "output_type": "execute_result"
    }
   ],
   "source": [
    "'MachineHoursCurrentMeter' in cols_to_train"
   ]
  },
  {
   "cell_type": "code",
   "execution_count": 10,
   "metadata": {},
   "outputs": [
    {
     "data": {
      "text/plain": [
       "['SalesID',\n",
       " 'MachineID',\n",
       " 'ModelID',\n",
       " 'datasource',\n",
       " 'auctioneerID',\n",
       " 'YearMade',\n",
       " 'saledate',\n",
       " 'fiModelDesc',\n",
       " 'fiBaseModel',\n",
       " 'fiProductClassDesc',\n",
       " 'state',\n",
       " 'ProductGroup',\n",
       " 'ProductGroupDesc',\n",
       " 'Enclosure']"
      ]
     },
     "execution_count": 10,
     "metadata": {},
     "output_type": "execute_result"
    }
   ],
   "source": [
    "cols_to_train"
   ]
  },
  {
   "cell_type": "code",
   "execution_count": 11,
   "metadata": {},
   "outputs": [],
   "source": [
    "X_train_subset = (X_train[cols_to_train]\n",
    "    .drop(['SalesID', 'MachineID', 'ModelID', 'saledate'], axis=1)\n",
    ")"
   ]
  },
  {
   "cell_type": "code",
   "execution_count": 12,
   "metadata": {},
   "outputs": [
    {
     "data": {
      "text/html": [
       "<div>\n",
       "<style scoped>\n",
       "    .dataframe tbody tr th:only-of-type {\n",
       "        vertical-align: middle;\n",
       "    }\n",
       "\n",
       "    .dataframe tbody tr th {\n",
       "        vertical-align: top;\n",
       "    }\n",
       "\n",
       "    .dataframe thead th {\n",
       "        text-align: right;\n",
       "    }\n",
       "</style>\n",
       "<table border=\"1\" class=\"dataframe\">\n",
       "  <thead>\n",
       "    <tr style=\"text-align: right;\">\n",
       "      <th></th>\n",
       "      <th>datasource</th>\n",
       "      <th>auctioneerID</th>\n",
       "      <th>YearMade</th>\n",
       "      <th>fiModelDesc</th>\n",
       "      <th>fiBaseModel</th>\n",
       "      <th>fiProductClassDesc</th>\n",
       "      <th>state</th>\n",
       "      <th>ProductGroup</th>\n",
       "      <th>ProductGroupDesc</th>\n",
       "      <th>Enclosure</th>\n",
       "    </tr>\n",
       "  </thead>\n",
       "  <tbody>\n",
       "    <tr>\n",
       "      <th>268962</th>\n",
       "      <td>132</td>\n",
       "      <td>2.0</td>\n",
       "      <td>1998</td>\n",
       "      <td>751</td>\n",
       "      <td>751</td>\n",
       "      <td>Skid Steer Loader - 1251.0 to 1351.0 Lb Operat...</td>\n",
       "      <td>Pennsylvania</td>\n",
       "      <td>SSL</td>\n",
       "      <td>Skid Steer Loaders</td>\n",
       "      <td>OROPS</td>\n",
       "    </tr>\n",
       "    <tr>\n",
       "      <th>237812</th>\n",
       "      <td>132</td>\n",
       "      <td>2.0</td>\n",
       "      <td>1000</td>\n",
       "      <td>PC40</td>\n",
       "      <td>PC40</td>\n",
       "      <td>Hydraulic Excavator, Track - 3.0 to 4.0 Metric...</td>\n",
       "      <td>Pennsylvania</td>\n",
       "      <td>TEX</td>\n",
       "      <td>Track Excavators</td>\n",
       "      <td>EROPS</td>\n",
       "    </tr>\n",
       "    <tr>\n",
       "      <th>121285</th>\n",
       "      <td>132</td>\n",
       "      <td>2.0</td>\n",
       "      <td>1993</td>\n",
       "      <td>312</td>\n",
       "      <td>312</td>\n",
       "      <td>Hydraulic Excavator, Track - 12.0 to 14.0 Metr...</td>\n",
       "      <td>Pennsylvania</td>\n",
       "      <td>TEX</td>\n",
       "      <td>Track Excavators</td>\n",
       "      <td>EROPS w AC</td>\n",
       "    </tr>\n",
       "    <tr>\n",
       "      <th>221519</th>\n",
       "      <td>132</td>\n",
       "      <td>2.0</td>\n",
       "      <td>1994</td>\n",
       "      <td>EX120-3</td>\n",
       "      <td>EX120</td>\n",
       "      <td>Hydraulic Excavator, Track - 12.0 to 14.0 Metr...</td>\n",
       "      <td>Pennsylvania</td>\n",
       "      <td>TEX</td>\n",
       "      <td>Track Excavators</td>\n",
       "      <td>EROPS</td>\n",
       "    </tr>\n",
       "    <tr>\n",
       "      <th>283617</th>\n",
       "      <td>132</td>\n",
       "      <td>2.0</td>\n",
       "      <td>1994</td>\n",
       "      <td>B502B</td>\n",
       "      <td>B502</td>\n",
       "      <td>Hydraulic Excavator, Track - 4.0 to 5.0 Metric...</td>\n",
       "      <td>Pennsylvania</td>\n",
       "      <td>TEX</td>\n",
       "      <td>Track Excavators</td>\n",
       "      <td>EROPS</td>\n",
       "    </tr>\n",
       "  </tbody>\n",
       "</table>\n",
       "</div>"
      ],
      "text/plain": [
       "        datasource  auctioneerID  ...    ProductGroupDesc   Enclosure\n",
       "268962         132           2.0  ...  Skid Steer Loaders       OROPS\n",
       "237812         132           2.0  ...    Track Excavators       EROPS\n",
       "121285         132           2.0  ...    Track Excavators  EROPS w AC\n",
       "221519         132           2.0  ...    Track Excavators       EROPS\n",
       "283617         132           2.0  ...    Track Excavators       EROPS\n",
       "\n",
       "[5 rows x 10 columns]"
      ]
     },
     "execution_count": 12,
     "metadata": {},
     "output_type": "execute_result"
    }
   ],
   "source": [
    "X_train_subset.head()"
   ]
  },
  {
   "cell_type": "code",
   "execution_count": 13,
   "metadata": {},
   "outputs": [
    {
     "name": "stdout",
     "output_type": "stream",
     "text": [
      "<class 'pandas.core.frame.DataFrame'>\n",
      "Index: 401125 entries, 268962 to 22602\n",
      "Data columns (total 10 columns):\n",
      " #   Column              Non-Null Count   Dtype  \n",
      "---  ------              --------------   -----  \n",
      " 0   datasource          401125 non-null  int64  \n",
      " 1   auctioneerID        380989 non-null  float64\n",
      " 2   YearMade            401125 non-null  int64  \n",
      " 3   fiModelDesc         401125 non-null  object \n",
      " 4   fiBaseModel         401125 non-null  object \n",
      " 5   fiProductClassDesc  401125 non-null  object \n",
      " 6   state               401125 non-null  object \n",
      " 7   ProductGroup        401125 non-null  object \n",
      " 8   ProductGroupDesc    401125 non-null  object \n",
      " 9   Enclosure           400800 non-null  object \n",
      "dtypes: float64(1), int64(2), object(7)\n",
      "memory usage: 33.7+ MB\n"
     ]
    }
   ],
   "source": [
    "X_train_subset.info()"
   ]
  },
  {
   "cell_type": "code",
   "execution_count": 14,
   "metadata": {},
   "outputs": [],
   "source": [
    "# Split out a validation dataset\n",
    "\n",
    "valid_ratio = 0.2\n",
    "train_len = round(len(X_train_subset) * (1-valid_ratio))\n",
    "\n",
    "X_train_subset_final = X_train_subset.iloc[:train_len, :]\n",
    "y_train_final = y_train.iloc[:train_len]\n",
    "\n",
    "X_valid = X_train_subset.iloc[train_len+1:, :]\n",
    "y_valid = y_train.iloc[train_len+1:]"
   ]
  },
  {
   "cell_type": "code",
   "execution_count": 15,
   "metadata": {},
   "outputs": [],
   "source": [
    "from sklearn.compose import ColumnTransformer\n",
    "from sklearn.pipeline import Pipeline\n",
    "from sklearn.impute import SimpleImputer\n",
    "from sklearn.preprocessing import OneHotEncoder\n",
    "\n",
    "from sklearn.ensemble import RandomForestRegressor"
   ]
  },
  {
   "cell_type": "markdown",
   "metadata": {},
   "source": []
  },
  {
   "cell_type": "code",
   "execution_count": 16,
   "metadata": {},
   "outputs": [],
   "source": [
    "categorical_string_features = [\n",
    "    'fiModelDesc',\n",
    "    'fiBaseModel', \n",
    "    'fiProductClassDesc', \n",
    "    'state', \n",
    "    'ProductGroup', \n",
    "    'ProductGroupDesc', \n",
    "    'Enclosure'\n",
    "]\n",
    "categorical_string_transformer = Pipeline(steps=[\n",
    "    ('imputer', SimpleImputer(strategy='constant', fill_value='missing')),\n",
    "    ('onehot', OneHotEncoder(handle_unknown='ignore'))\n",
    "])\n",
    "\n",
    "categorical_num_features = [\n",
    "    'datasource', \n",
    "    'auctioneerID', \n",
    "]\n",
    "categorical_num_transformer = Pipeline(steps=[\n",
    "    ('imputer', SimpleImputer(strategy='median')),\n",
    "])\n",
    "\n",
    "numerical_features = ['YearMade']\n",
    "numerical_transformer = Pipeline(steps=[\n",
    "    ('imputer', SimpleImputer(strategy='mean'))\n",
    "])\n",
    "\n",
    "preprocessor = ColumnTransformer(\n",
    "    transformers=[\n",
    "        ('cat_str', categorical_string_transformer, categorical_string_features),\n",
    "        ('cat_num', categorical_num_transformer, categorical_num_features),\n",
    "        ('num', numerical_transformer, numerical_features)\n",
    "    ],\n",
    "    verbose=True\n",
    ")\n",
    "\n",
    "model = Pipeline(steps=[\n",
    "    ('preprocessor', preprocessor),\n",
    "    ('model', RandomForestRegressor(verbose=3, n_jobs=-1))\n",
    "])"
   ]
  },
  {
   "cell_type": "code",
   "execution_count": 17,
   "metadata": {},
   "outputs": [
    {
     "name": "stdout",
     "output_type": "stream",
     "text": [
      "[ColumnTransformer] ....... (1 of 3) Processing cat_str, total=   0.7s\n",
      "[ColumnTransformer] ....... (2 of 3) Processing cat_num, total=   0.1s\n",
      "[ColumnTransformer] ........... (3 of 3) Processing num, total=   0.0s\n"
     ]
    },
    {
     "name": "stderr",
     "output_type": "stream",
     "text": [
      "[Parallel(n_jobs=-1)]: Using backend ThreadingBackend with 4 concurrent workers.\n"
     ]
    },
    {
     "name": "stdout",
     "output_type": "stream",
     "text": [
      "building tree 1 of 100\n",
      "building tree 2 of 100\n",
      "building tree 3 of 100\n",
      "building tree 4 of 100\n",
      "building tree 5 of 100\n",
      "building tree 6 of 100\n",
      "building tree 7 of 100\n",
      "building tree 8 of 100\n",
      "building tree 9 of 100\n",
      "building tree 10 of 100\n",
      "building tree 11 of 100\n",
      "building tree 12 of 100\n",
      "building tree 13 of 100\n",
      "building tree 14 of 100\n",
      "building tree 15 of 100\n",
      "building tree 16 of 100\n",
      "building tree 17 of 100\n",
      "building tree 18 of 100\n",
      "building tree 19 of 100\n",
      "building tree 20 of 100\n",
      "building tree 21 of 100\n",
      "building tree 22 of 100\n",
      "building tree 23 of 100\n",
      "building tree 24 of 100\n",
      "building tree 25 of 100\n",
      "building tree 26 of 100\n",
      "building tree 27 of 100\n",
      "building tree 28 of 100\n"
     ]
    },
    {
     "name": "stderr",
     "output_type": "stream",
     "text": [
      "[Parallel(n_jobs=-1)]: Done  24 tasks      | elapsed: 15.3min\n"
     ]
    },
    {
     "name": "stdout",
     "output_type": "stream",
     "text": [
      "building tree 29 of 100\n",
      "building tree 30 of 100\n",
      "building tree 31 of 100\n",
      "building tree 32 of 100\n",
      "building tree 33 of 100\n",
      "building tree 34 of 100\n",
      "building tree 35 of 100\n",
      "building tree 36 of 100\n",
      "building tree 37 of 100\n",
      "building tree 38 of 100\n",
      "building tree 39 of 100\n",
      "building tree 40 of 100\n",
      "building tree 41 of 100\n",
      "building tree 42 of 100\n",
      "building tree 43 of 100\n",
      "building tree 44 of 100\n",
      "building tree 45 of 100\n",
      "building tree 46 of 100\n",
      "building tree 47 of 100\n",
      "building tree 48 of 100\n",
      "building tree 49 of 100\n",
      "building tree 50 of 100\n",
      "building tree 51 of 100\n",
      "building tree 52 of 100\n",
      "building tree 53 of 100\n",
      "building tree 54 of 100\n",
      "building tree 55 of 100\n",
      "building tree 56 of 100\n",
      "building tree 57 of 100\n",
      "building tree 58 of 100\n",
      "building tree 59 of 100\n",
      "building tree 60 of 100\n",
      "building tree 61 of 100\n",
      "building tree 62 of 100\n",
      "building tree 63 of 100\n",
      "building tree 64 of 100\n",
      "building tree 65 of 100\n",
      "building tree 66 of 100\n",
      "building tree 67 of 100\n",
      "building tree 68 of 100\n",
      "building tree 69 of 100\n",
      "building tree 70 of 100\n",
      "building tree 71 of 100\n",
      "building tree 72 of 100\n",
      "building tree 73 of 100\n",
      "building tree 74 of 100\n",
      "building tree 75 of 100\n",
      "building tree 76 of 100\n",
      "building tree 77 of 100\n",
      "building tree 78 of 100\n",
      "building tree 79 of 100\n",
      "building tree 80 of 100\n",
      "building tree 81 of 100\n",
      "building tree 82 of 100\n",
      "building tree 83 of 100\n",
      "building tree 84 of 100\n",
      "building tree 85 of 100\n",
      "building tree 86 of 100\n",
      "building tree 87 of 100\n",
      "building tree 88 of 100\n",
      "building tree 89 of 100\n",
      "building tree 90 of 100\n",
      "building tree 91 of 100\n",
      "building tree 92 of 100\n",
      "building tree 93 of 100\n",
      "building tree 94 of 100\n",
      "building tree 95 of 100\n",
      "building tree 96 of 100\n",
      "building tree 97 of 100\n",
      "building tree 98 of 100\n",
      "building tree 99 of 100\n",
      "building tree 100 of 100\n"
     ]
    },
    {
     "name": "stderr",
     "output_type": "stream",
     "text": [
      "[Parallel(n_jobs=-1)]: Done 100 out of 100 | elapsed: 60.0min finished\n",
      "[Parallel(n_jobs=4)]: Using backend ThreadingBackend with 4 concurrent workers.\n",
      "[Parallel(n_jobs=4)]: Done  24 tasks      | elapsed:    0.4s\n",
      "[Parallel(n_jobs=4)]: Done 100 out of 100 | elapsed:    1.8s finished\n"
     ]
    },
    {
     "data": {
      "text/plain": [
       "0.7844089070514768"
      ]
     },
     "execution_count": 17,
     "metadata": {},
     "output_type": "execute_result"
    }
   ],
   "source": [
    "# categorical_transformer. (categorical_features)\n",
    "model.fit(X_train_subset_final, y_train_final)\n",
    "model.score(X_valid, y_valid)"
   ]
  },
  {
   "cell_type": "code",
   "execution_count": 19,
   "metadata": {},
   "outputs": [
    {
     "name": "stderr",
     "output_type": "stream",
     "text": [
      "[Parallel(n_jobs=4)]: Using backend ThreadingBackend with 4 concurrent workers.\n",
      "[Parallel(n_jobs=4)]: Done  24 tasks      | elapsed:    2.9s\n",
      "[Parallel(n_jobs=4)]: Done 100 out of 100 | elapsed:   14.4s finished\n"
     ]
    },
    {
     "data": {
      "text/plain": [
       "0.9420848268322899"
      ]
     },
     "execution_count": 19,
     "metadata": {},
     "output_type": "execute_result"
    }
   ],
   "source": [
    "model.score(X_train_subset_final, y_train_final)"
   ]
  },
  {
   "cell_type": "markdown",
   "metadata": {},
   "source": []
  },
  {
   "cell_type": "code",
   "execution_count": 20,
   "metadata": {},
   "outputs": [
    {
     "name": "stderr",
     "output_type": "stream",
     "text": [
      "[Parallel(n_jobs=4)]: Using backend ThreadingBackend with 4 concurrent workers.\n",
      "[Parallel(n_jobs=4)]: Done  24 tasks      | elapsed:    1.2s\n",
      "[Parallel(n_jobs=4)]: Done 100 out of 100 | elapsed:    3.9s finished\n"
     ]
    },
    {
     "data": {
      "text/plain": [
       "array([28259.35714286, 31152.83333333, 31087.4978355 , ...,\n",
       "       75056.        , 37661.52380952, 27376.125     ])"
      ]
     },
     "execution_count": 20,
     "metadata": {},
     "output_type": "execute_result"
    }
   ],
   "source": [
    "preds = model.predict(X_valid)\n",
    "preds"
   ]
  },
  {
   "cell_type": "code",
   "execution_count": 22,
   "metadata": {},
   "outputs": [
    {
     "name": "stderr",
     "output_type": "stream",
     "text": [
      "[Parallel(n_jobs=4)]: Using backend ThreadingBackend with 4 concurrent workers.\n",
      "[Parallel(n_jobs=4)]: Done  24 tasks      | elapsed:    2.0s\n",
      "[Parallel(n_jobs=4)]: Done 100 out of 100 | elapsed:    9.3s finished\n"
     ]
    },
    {
     "data": {
      "text/plain": [
       "array([ 8151.31302521, 10793.62698413, 32030.28225941, ...,\n",
       "       42528.33333333, 14884.70238095, 10574.85714286])"
      ]
     },
     "execution_count": 22,
     "metadata": {},
     "output_type": "execute_result"
    }
   ],
   "source": [
    "preds_train = model.predict(X_train_subset_final)\n",
    "preds_train"
   ]
  },
  {
   "cell_type": "code",
   "execution_count": 31,
   "metadata": {},
   "outputs": [
    {
     "data": {
      "text/plain": [
       "0.2972812340816371"
      ]
     },
     "execution_count": 31,
     "metadata": {},
     "output_type": "execute_result"
    }
   ],
   "source": [
    "from sklearn.metrics import mean_squared_log_error\n",
    "\n",
    "mean_squared_log_error(y_valid, preds, squared=False)"
   ]
  },
  {
   "cell_type": "code",
   "execution_count": 30,
   "metadata": {},
   "outputs": [
    {
     "data": {
      "text/plain": [
       "0.1603467959449414"
      ]
     },
     "execution_count": 30,
     "metadata": {},
     "output_type": "execute_result"
    }
   ],
   "source": [
    "mean_squared_log_error(y_train_final, preds_train, squared=False)"
   ]
  },
  {
   "cell_type": "code",
   "execution_count": 18,
   "metadata": {},
   "outputs": [],
   "source": [
    "import pickle\n",
    "\n",
    "file_name = 'model-initial.pkl'\n",
    "pickle.dump(model, open(file_name, 'wb'))"
   ]
  },
  {
   "cell_type": "code",
   "execution_count": 32,
   "metadata": {},
   "outputs": [
    {
     "name": "stderr",
     "output_type": "stream",
     "text": [
      "[Parallel(n_jobs=4)]: Using backend ThreadingBackend with 4 concurrent workers.\n",
      "[Parallel(n_jobs=4)]: Done  24 tasks      | elapsed:    0.3s\n",
      "[Parallel(n_jobs=4)]: Done 100 out of 100 | elapsed:    0.5s finished\n"
     ]
    },
    {
     "data": {
      "text/plain": [
       "0.26835"
      ]
     },
     "execution_count": 32,
     "metadata": {},
     "output_type": "execute_result"
    }
   ],
   "source": [
    "# Public leaderboard submission simulation\n",
    "\n",
    "test = pd.read_csv('./data/bulldozer/Valid.csv')\n",
    "test_solution = pd.read_csv('./data/bulldozer/ValidSolution.csv')\n",
    "\n",
    "X_test = (test[cols_to_train]\n",
    "    .drop(['SalesID', 'MachineID', 'ModelID', 'saledate'], axis=1)\n",
    ")\n",
    "y_test = test_solution['SalePrice']\n",
    "\n",
    "preds_test = model.predict(X_test)\n",
    "\n",
    "# Baseline gets me 0.26835\n",
    "# That would put me at 66th in the final public leaderboard\n",
    "# But that uses the test data? Not sure - either way, pretty good!\n",
    "round(\n",
    "    mean_squared_log_error(y_test, preds_test, squared=False), # type: ignore\n",
    "    5\n",
    ")"
   ]
  },
  {
   "cell_type": "code",
   "execution_count": 38,
   "metadata": {},
   "outputs": [
    {
     "name": "stdout",
     "output_type": "stream",
     "text": [
      "[ColumnTransformer] ....... (1 of 3) Processing cat_str, total=   0.8s\n",
      "[ColumnTransformer] ....... (2 of 3) Processing cat_num, total=   0.1s\n",
      "[ColumnTransformer] ........... (3 of 3) Processing num, total=   0.0s\n"
     ]
    },
    {
     "data": {
      "text/plain": [
       "0.37616509428883066"
      ]
     },
     "execution_count": 38,
     "metadata": {},
     "output_type": "execute_result"
    }
   ],
   "source": [
    "# Training random forest takes 1 hour, try iterating on simpler model,\n",
    "# then extend updates to random forest?\n",
    "\n",
    "from sklearn import linear_model\n",
    "\n",
    "model_ridge = Pipeline(steps=[\n",
    "    ('preprocessor', preprocessor),\n",
    "    ('model', linear_model.Ridge(alpha=0.2))\n",
    "])\n",
    "model_ridge.fit(X_train_subset_final, y_train_final)\n",
    "\n",
    "mean_squared_log_error(\n",
    "    y_valid,\n",
    "    np.abs(model_ridge.predict(X_valid)),\n",
    "    squared=False\n",
    ")"
   ]
  },
  {
   "cell_type": "code",
   "execution_count": 39,
   "metadata": {},
   "outputs": [
    {
     "name": "stdout",
     "output_type": "stream",
     "text": [
      "[ColumnTransformer] ....... (1 of 3) Processing cat_str, total=   0.8s\n",
      "[ColumnTransformer] ....... (2 of 3) Processing cat_num, total=   0.1s\n",
      "[ColumnTransformer] ........... (3 of 3) Processing num, total=   0.0s\n"
     ]
    }
   ],
   "source": [
    "from sklearn import svm\n",
    "\n",
    "model_svm = Pipeline(steps=[\n",
    "    ('preprocessor', preprocessor),\n",
    "    ('model', svm.SVR(kernel='linear'))\n",
    "])\n",
    "model_svm.fit(X_train_subset_final, y_train_final)\n",
    "\n",
    "mean_squared_log_error(\n",
    "    y_valid,\n",
    "    np.abs(model_svm.predict(X_valid)),\n",
    "    squared=False\n",
    ")"
   ]
  }
 ],
 "metadata": {
  "kernelspec": {
   "display_name": "Python 3",
   "language": "python",
   "name": "python3"
  },
  "language_info": {
   "codemirror_mode": {
    "name": "ipython",
    "version": 3
   },
   "file_extension": ".py",
   "mimetype": "text/x-python",
   "name": "python",
   "nbconvert_exporter": "python",
   "pygments_lexer": "ipython3",
   "version": "3.11.4"
  },
  "orig_nbformat": 4
 },
 "nbformat": 4,
 "nbformat_minor": 2
}
